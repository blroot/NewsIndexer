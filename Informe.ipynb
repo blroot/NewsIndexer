{
 "cells": [
  {
   "cell_type": "markdown",
   "metadata": {},
   "source": [
    "# Estructuras de Datos - Universidad Nacional de Tres de Febrero \n",
    "# Trabajo Práctico Nº 2 - Indexador de Noticias\n",
    "\n",
    "### Lottero Bruno - Leg. 18434"
   ]
  },
  {
   "cell_type": "markdown",
   "metadata": {},
   "source": [
    "### Dependencias\n",
    "- configparser\n",
    "- requests\n",
    "- beautifulsoup4\n",
    "- lxml"
   ]
  },
  {
   "cell_type": "markdown",
   "metadata": {},
   "source": [
    "Se pueden instalar con: pip3 install -r requirements"
   ]
  },
  {
   "cell_type": "markdown",
   "metadata": {},
   "source": [
    "### A continuación se describen las clases y decisiones de diseño más importantes"
   ]
  },
  {
   "cell_type": "markdown",
   "metadata": {},
   "source": [
    "## NewsReader.py\n",
    "#### Esta clase contiene los métodos para leer y almacenar los artículos\n",
    "#### Contiene métodos para:\n",
    "- Crear los directorios/archivos xml destino si no existen\n",
    "- Recolectar y almacenar los artículos según los medios/canales indicados en la configuración\n",
    "\n",
    "### Decisiones de diseño:\n",
    "- Para evitar almacenar noticias en un canal, se verifica por xpath que no exista previamente en el mismo archivo XML\n",
    "- Se utilizó el paquete requests para hacer las peticiones HTTP correspondientes"
   ]
  },
  {
   "cell_type": "markdown",
   "metadata": {},
   "source": [
    "### Por ejemplo\n",
    "Leemos la configuración para tests"
   ]
  },
  {
   "cell_type": "code",
   "execution_count": 10,
   "metadata": {},
   "outputs": [
    {
     "data": {
      "text/plain": [
       "['tests/config.ini']"
      ]
     },
     "execution_count": 10,
     "metadata": {},
     "output_type": "execute_result"
    }
   ],
   "source": [
    "import configparser\n",
    "\n",
    "config = configparser.ConfigParser()\n",
    "config.read('tests/config.ini', encoding='utf-8')"
   ]
  },
  {
   "cell_type": "markdown",
   "metadata": {},
   "source": [
    "También definimos una función callback para que nos imprima mensajes por consola (más adelante se explica en más detalle)"
   ]
  },
  {
   "cell_type": "code",
   "execution_count": 13,
   "metadata": {},
   "outputs": [],
   "source": [
    "def print_callback(message, *args):\n",
    "    \"\"\"\n",
    "    Función callback para recibir mensajes e imprimir un texto adecuado por consola\n",
    "    \"\"\"\n",
    "    messages = {\n",
    "        \"DLERR\": \"No se pudo descargar el XML de %s\",\n",
    "        \"PARSEERR\": \"No se pudo parsear el XML de %s\",\n",
    "        \"NEWARTICLE\": \"Agregado %s - %s - %s\",\n",
    "        \"BADFORMAT\": \"Mal formato de título o fecha, salteando...\",\n",
    "        \"WAITING\": \"Esperando %s segundos para reiniciar descargas\",\n",
    "        \"CANINTERR\": \"Si lo desea presione CTRL+C para cancelar y volver al menú principal\",\n",
    "        \"BLKNE\": \"El archivo intermedio %s no existe, salteando...\",\n",
    "        \"INDERR\": \"No se puede indexar el artículo con título %s\",\n",
    "        \"XMLNF\": \"No existe el archivo XML %s\"\n",
    "    }\n",
    "    print(messages.get(message) % args)"
   ]
  },
  {
   "cell_type": "markdown",
   "metadata": {},
   "source": [
    "Construímos NewsReader"
   ]
  },
  {
   "cell_type": "code",
   "execution_count": 14,
   "metadata": {},
   "outputs": [
    {
     "name": "stdout",
     "output_type": "stream",
     "text": [
      "Agregado TELAM - política - Alberto Fernández: &quot;Fue un gran presidente al que le tocó un tiempo difícil&quot;\n",
      "Agregado TELAM - política - Guerra judicial entre los dos principales candidatos a gobernador de Salta\n",
      "Agregado TELAM - política - El bloque peronista se reunió por primera vez luego del triunfo electoral\n",
      "Agregado TELAM - política - Palacios: Cuando tuve a la Virgen conmigo recordé a los caídos y mis compañeros\n",
      "Agregado TELAM - política - Ordenan a Vialidad que brinde datos de contratos sobre corredores viales\n",
      "Agregado TELAM - política - Fernández: &quot;Los argentinos están cansados de levantarse cada mañana para ver cuál es la tasa&quot;\n",
      "Agregado TELAM - política - Archivan una denuncia contra Pichetto por sus dichos sobre la villa 1-11-14\n",
      "Agregado TELAM - política - Michetti y Cristina Fernández van a reunirse en noviembre para facilitar la transición\n",
      "Agregado TELAM - política - Rodríguez Larreta se reunió con Tombolini y ahora buscará encontrarse con Lammens\n",
      "Agregado TELAM - política - Grindetti dijo que &quot;Macri va a seguir liderando Cambiemos&quot;\n",
      "Agregado TELAM - política - Ante el Papa, el Reino Unido devolvió una imagen de la Virgen de Luján que estuvo en Malvinas\n",
      "Agregado TELAM - política - Alberto Fernández recibió al joven que fue presidente de mesa, discriminado en redes sociales\n",
      "Agregado TELAM - política - Postergan la reunión de la comisión bicameral que debe designar al defensor del Pueblo\n",
      "Agregado TELAM - política - Impugnan ante la Corte la elección de la senadora Lucila Crexell\n",
      "Agregado TELAM - política - Juntos por el Cambio buscará mantenerse unido en Diputados\n",
      "Agregado TELAM - política - Ordenan reducir la condena al detenido ex vicepresidente Amado Boudou\n",
      "Agregado TELAM - política - Empieza el escrutinio definitivo de las elecciones bonaerenses y durará unos 20 días\n",
      "Agregado TELAM - política - Kicillof designó a su equipo para la transición con Vidal\n",
      "Agregado TELAM - política - Se cumplen 36 años del retorno de la democracia\n",
      "Agregado TELAM - política - Lipovetzky pidió &quot;terminar con los gobiernos polarizantes&quot;\n",
      "Agregado TELAM - economía - Los Productos Esenciales se sumaron a Precios Cuidados y ya son 529 los artículos participantes\n",
      "Agregado TELAM - economía - El BCRA baja en cinco puntos y fija en un mínimo de 63% la tasa de Leliq para noviembre\n",
      "Agregado TELAM - economía - Las compras de argentinos en sitios del exterior crecieron 100% interanual en octubre\n",
      "Agregado TELAM - economía - La Reserva Federal de EEUU reduce en 25 puntos básicos la tasa de interés\n",
      "Agregado TELAM - economía - La provincia medirá la evolución de los precios locales después de 11 años\n",
      "Agregado TELAM - economía - Verna propone rebajar las tasas de créditos del 42 al 6 % para salvar microemprendimientos\n",
      "Agregado TELAM - economía - La Agencia de Inversiones impulsó la participación de firmas locales en FinTech\n",
      "Agregado TELAM - economía - El dólar se mantuvo estable y cerró a $ 63,50 en el Banco Nación\n",
      "Agregado TELAM - economía - AFIP y Energía fijan nuevas condiciones para beneficios fiscales a renovables\n",
      "Agregado TELAM - economía - El Gobierno aprueba un financiamiento del BID por US$ 600 millones para política social\n",
      "Agregado TELAM - economía - El Gobierno amplía el presupuesto 2019 en $ 684.100 millones\n",
      "Agregado TELAM - economía - Culminó Precios Esenciales y sus productos podrían integrarse a Precios Cuidados\n",
      "Agregado TELAM - economía - Las exportaciones de América latina y el Caribe caerán 2,0% en 2019\n",
      "Agregado TELAM - economía - El litio generará 800 millones de dólares de exportaciones entre 2022 y 2023\n",
      "Agregado TELAM - economía - Más de 200 personas presentaron un amparo judicial por aumento de cuotas en autos 0 Km\n",
      "Agregado TELAM - economía - Un juzgado de Nueva York investiga un presunto fraude contra el Estado Nacional\n",
      "Agregado TELAM - economía - El dólar bajó cuatro centavos y cerró a $63,41\n",
      "Agregado TELAM - economía - El ENRE sanciona a Edesur en $ 21,67 millones por incumplimientos\n",
      "Agregado TELAM - economía - La UIA plantea la necesidad de diálogo entre los espacios políticos y consensos\n",
      "Agregado TELAM - economía - El dólar oficial cayó $1,50 en el Banco Nacíón y cerró a $ 63.50 para la venta\n",
      "Esperando 1 segundos para reiniciar descargas\n",
      "Si lo desea presione CTRL+C para cancelar y volver al menú principal\n",
      "Esperando 1 segundos para reiniciar descargas\n",
      "Si lo desea presione CTRL+C para cancelar y volver al menú principal\n"
     ]
    }
   ],
   "source": [
    "from NewsReader import NewsReader\n",
    "\n",
    "news_reader = NewsReader(config, callback=print_callback)\n",
    "news_reader.collect_news()"
   ]
  },
  {
   "cell_type": "code",
   "execution_count": null,
   "metadata": {},
   "outputs": [],
   "source": [
    "Luego de esto deberíamos tener en tests/TELAM/ los xml de economía y política"
   ]
  },
  {
   "cell_type": "markdown",
   "metadata": {},
   "source": [
    "## Index.py\n",
    "#### Es la clase que representa al índice invertido\n",
    "#### Contiene métodos para:\n",
    "- Procesar los cuerpos de noticias como bloques (cada medio es un bloque)\n",
    "- Combinar los índices intermedios en un solo índice\n",
    "\n",
    "### Decisiones de diseño:\n",
    "- El formato de los índices intermedios consiste en palabras de longitud variable:\n",
    "    - 4 bytes de term_id + 4 bytes para indicar tamaño de doc_list + n bytes de doc_list\n",
    "- El formato de la lista de apariciones final consiste solamente en concatenar cada uno de los doc_list de los intermedios, ya que la metadada se encuentra en el diccionario almacenado con pickle"
   ]
  },
  {
   "cell_type": "code",
   "execution_count": 1,
   "metadata": {},
   "outputs": [],
   "source": []
  },
  {
   "cell_type": "code",
   "execution_count": null,
   "metadata": {},
   "outputs": [],
   "source": []
  }
 ],
 "metadata": {
  "kernelspec": {
   "display_name": "Python 3",
   "language": "python",
   "name": "python3"
  },
  "language_info": {
   "codemirror_mode": {
    "name": "ipython",
    "version": 3
   },
   "file_extension": ".py",
   "mimetype": "text/x-python",
   "name": "python",
   "nbconvert_exporter": "python",
   "pygments_lexer": "ipython3",
   "version": "3.7.4"
  }
 },
 "nbformat": 4,
 "nbformat_minor": 2
}
