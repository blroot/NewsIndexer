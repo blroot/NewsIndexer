{
 "cells": [
  {
   "cell_type": "markdown",
   "metadata": {},
   "source": [
    "# Estructuras de Datos - Universidad Nacional de Tres de Febrero \n",
    "# Trabajo Práctico Nº 2 - Indexador de Noticias\n",
    "\n",
    "### Lottero Bruno - Leg. 18434"
   ]
  },
  {
   "cell_type": "markdown",
   "metadata": {},
   "source": [
    "### Dependencias\n",
    "- configparser\n",
    "- requests\n",
    "- beautifulsoup4\n",
    "- lxml\n",
    "- bitarray\n",
    "- pystemmer\n",
    "- BTrees"
   ]
  },
  {
   "cell_type": "markdown",
   "metadata": {},
   "source": [
    "Se pueden instalar con: pip3 install -r requirements"
   ]
  },
  {
   "cell_type": "markdown",
   "metadata": {},
   "source": [
    "### A continuación se describen las clases y decisiones de diseño más importantes"
   ]
  },
  {
   "cell_type": "markdown",
   "metadata": {},
   "source": [
    "## NewsReader.py\n",
    "#### Esta clase contiene los métodos para leer y almacenar los artículos\n",
    "#### Contiene métodos para:\n",
    "- Crear los directorios/archivos xml destino si no existen\n",
    "- Recolectar y almacenar los artículos según los medios/canales indicados en la configuración\n",
    "\n",
    "### Decisiones de diseño:\n",
    "- Para evitar almacenar noticias en un canal, se verifica por xpath que no exista previamente en el mismo archivo XML\n",
    "- Se utilizó el paquete requests para hacer las peticiones HTTP correspondientes"
   ]
  },
  {
   "cell_type": "markdown",
   "metadata": {},
   "source": [
    "### Por ejemplo\n",
    "Leemos la configuración para tests"
   ]
  },
  {
   "cell_type": "code",
   "execution_count": 2,
   "metadata": {},
   "outputs": [
    {
     "data": {
      "text/plain": [
       "['tests/config.ini']"
      ]
     },
     "execution_count": 2,
     "metadata": {},
     "output_type": "execute_result"
    }
   ],
   "source": [
    "import configparser\n",
    "\n",
    "config = configparser.ConfigParser()\n",
    "config.read('tests/config.ini', encoding='utf-8')"
   ]
  },
  {
   "cell_type": "markdown",
   "metadata": {},
   "source": [
    "También definimos una función callback para que nos imprima mensajes por consola (más adelante se explica en más detalle)"
   ]
  },
  {
   "cell_type": "code",
   "execution_count": 3,
   "metadata": {},
   "outputs": [],
   "source": [
    "def print_callback(message, *args):\n",
    "    \"\"\"\n",
    "    Función callback para recibir mensajes e imprimir un texto adecuado por consola\n",
    "    \"\"\"\n",
    "    messages = {\n",
    "        \"DLERR\": \"No se pudo descargar el XML de %s\",\n",
    "        \"PARSEERR\": \"No se pudo parsear el XML de %s\",\n",
    "        \"NEWARTICLE\": \"Agregado %s - %s - %s\",\n",
    "        \"BADFORMAT\": \"Mal formato de título o fecha, salteando...\",\n",
    "        \"WAITING\": \"Esperando %s segundos para reiniciar descargas\",\n",
    "        \"CANINTERR\": \"Si lo desea presione CTRL+C para cancelar y volver al menú principal\",\n",
    "        \"BLKNE\": \"El archivo intermedio %s no existe, salteando...\",\n",
    "        \"INDERR\": \"No se puede indexar el artículo con título %s\",\n",
    "        \"XMLNF\": \"No existe el archivo XML %s\",\n",
    "        \"MERGEOK\": \"Construcción del índice invertido finalizada\"\n",
    "    }\n",
    "    print(messages.get(message) % args)"
   ]
  },
  {
   "cell_type": "markdown",
   "metadata": {},
   "source": [
    "Construímos NewsReader"
   ]
  },
  {
   "cell_type": "code",
   "execution_count": 4,
   "metadata": {},
   "outputs": [
    {
     "name": "stdout",
     "output_type": "stream",
     "text": [
      "Agregado TELAM - política - Peña encabezó en la Antártida el acto del 50 aniversario de la creación de la Base Marambio\n",
      "Agregado TELAM - política - Para el Financial Times, &quot;la victoria de Alberto Fernández agita la diplomacia argentina&quot;\n",
      "Agregado TELAM - política - Finocchiaro: &quot;Vamos a hacer una transición ordenada&quot;\n",
      "Agregado TELAM - política - El Gobierno asegura que deja &quot;10 mil millones de reservas, contra cero&quot; del kirchnerismo\n",
      "Agregado TELAM - política - En México, destacan la &quot;calidad extraordinaria&quot; de la visita de Alberto Fernández\n",
      "Agregado TELAM - política - Para Bielsa la institucionalidad &quot;frenó el desborde de las calles&quot;\n",
      "Agregado TELAM - política - &quot;Habrá que tomar medidas de fondo para solucionar las restricciones cambiarias&quot;, dijo Trotta\n",
      "Agregado TELAM - política - Pilotos de APLA se manifestaron por la situación de Avian y Andes\n",
      "Agregado TELAM - política - Alberto Fernández dará una conferencia en el antiguo colegio San Idelfonso\n",
      "Agregado TELAM - política - Schiavoni aseguró que Macri va a liderar la oposición y Cambiemos necesita reformulación\n",
      "Agregado TELAM - política - Roberto Fernández resaltó la &quot;predisposición&quot; a escuchar al presidente electo\n",
      "Agregado TELAM - política - Macri encabeza una reunión del gabinete nacional\n",
      "Agregado TELAM - política - Paran los docentes en reclamo del adelantamiento de la discusión paritaria\n",
      "Agregado TELAM - política - Tonelli: &quot;Sería una picardía que empecemos a dividirnos&quot;\n",
      "Agregado TELAM - política - Fernández evitó decir si pondrá cepo al dólar pero alertó: &quot;El 10 de diciembre no se hace magia&quot;\n",
      "Agregado TELAM - política - Marcos Peña encabezará el acto por el 50° aniversario de la base Marambio\n",
      "Agregado TELAM - política - Alberto Fernández se reunió con López Obrador y dijo que recibió un &quot;apoyo categórico&quot;\n",
      "Agregado TELAM - política - Macri: &quot;Nos vamos con la conciencia tranquila y las manos limpias, y hay gato para rato&quot;\n",
      "Agregado TELAM - política - La OIT conmemorará en diciembre los 50 años de su presencia en la Argentina\n",
      "Agregado TELAM - política - Macri: &quot;Gobernamos con honestidad y nos vamos a casa con la conciencia tranquila y la manos limpias&quot;\n",
      "Agregado TELAM - economía - Destacan la importancia de las marcas registradas en la economía argentina\n",
      "Agregado TELAM - economía - El dólar cerró a $63,26, sostenido por bancos oficiales\n",
      "Agregado TELAM - economía - Convocan a audiencias públicas por el desarrollo de yacimientos en Vaca Muerta\n",
      "Agregado TELAM - economía - Crecieron 43% los subsidios al sector energético en enero-septiembre\n",
      "Agregado TELAM - economía - Disminuyó 4,7% el déficit comercial de Estados Unidos\n",
      "Agregado TELAM - economía - El superávit comercial de la Argentina con Brasil alcanzó los U$S 290 millones en octubre\n",
      "Agregado TELAM - economía - Se duplicaron las ventas en alimentos en el primer día del CyberMonday\n",
      "Agregado TELAM - economía - Otorgan permisos de exploración de hidrocarburos a tres empresas en el área off shore\n",
      "Agregado TELAM - economía - La inflación de octubre fue de 4,4 % para la consultora Ferreres\n",
      "Agregado TELAM - economía - British Airways e Iberia acordaron la compra de Air Europa por 1.000 millones de euros\n",
      "Agregado TELAM - economía - El descuento promedio de esta edición de cyberofertas es del 29% y supera en 4,8 puntos al del 2018\n",
      "Agregado TELAM - economía - Las ofertas de destinos internacionales, las preferidas del rubro en el Cybermonday\n",
      "Agregado TELAM - economía - El dólar se mantuvo estable en el Banco Nación y cerró a $ 63.50\n",
      "Agregado TELAM - economía - Las empresas prevén otorgar un incremento de 46% anual al personal fuera de convenio\n",
      "Agregado TELAM - economía - Cuccioli negó que la AFIP se preste a situaciones de espionaje\n",
      "Agregado TELAM - economía - Equipos técnicos de Alberto Fernández se reunirán con petroleras\n",
      "Agregado TELAM - economía - Electro y tecnología son las categoría más buscadas en el inicio\n",
      "Agregado TELAM - economía - Aprueban financiamiento por US$ 300 millones\n",
      "Agregado TELAM - economía - Más de medio millar de empresas participarán de la octava edición de CyberMonday\n",
      "Agregado TELAM - economía - TGS inició la exportación de gas licuado a Brasil\n",
      "Esperando 1 segundos para reiniciar descargas\n",
      "Si lo desea presione CTRL+C para cancelar y volver al menú principal\n",
      "Esperando 1 segundos para reiniciar descargas\n",
      "Si lo desea presione CTRL+C para cancelar y volver al menú principal\n"
     ]
    }
   ],
   "source": [
    "from NewsReader import NewsReader\n",
    "\n",
    "news_reader = NewsReader(config, callback=print_callback)\n",
    "news_reader.collect_news()"
   ]
  },
  {
   "cell_type": "markdown",
   "metadata": {},
   "source": [
    "Luego de esto deberíamos tener en tests/TELAM/ los xml de economía y política"
   ]
  },
  {
   "cell_type": "markdown",
   "metadata": {},
   "source": [
    "## Index.py\n",
    "#### Es la clase que representa al índice invertido\n",
    "#### Contiene métodos para:\n",
    "- Procesar los cuerpos de noticias como bloques (cada medio es un bloque)\n",
    "- Combinar los índices intermedios en un solo índice\n",
    "\n",
    "### Decisiones de diseño:\n",
    "- El formato de los índices intermedios consiste en palabras de longitud variable:\n",
    "    - 4 bytes de term_id + 4 bytes para indicar tamaño de doc_list + n bytes de doc_list\n",
    "- El formato de la lista de apariciones final consiste solamente en concatenar cada uno de los doc_list de los intermedios, ya que la metadada se encuentra en el diccionario almacenado con pickle\n",
    "- En todos los casos las palabras son big endian\n",
    "- Para hacer el merge en lineas generales:\n",
    " - Se coloca un manejador de archivo en una lista por cada bloque intermedio\n",
    " - Se hace push de la primer palabra de cada archivo en un min heap\n",
    "     - Mientras el heap no esté vacío\n",
    "         - min = Hacer pop del heap\n",
    "         - next = Leer siguiente palabra a min (para facilitar, min tiene una referencia al manejador de archivo)\n",
    "         - Si next no está vacío, pushear a heap\n",
    "         - Si min.term_id coincide con el anterior, acumular los resultados, sinó escribir en disco\n",
    "- Se utilizó PyStemmer como stemmer\n",
    "- Para interpretar algunas etiquetas XML se utilizó BeautifulSoup4"
   ]
  },
  {
   "cell_type": "code",
   "execution_count": 5,
   "metadata": {},
   "outputs": [
    {
     "name": "stdout",
     "output_type": "stream",
     "text": [
      "El archivo intermedio ./tests/TELAM/TELAM.ii.part no existe, salteando...\n",
      "Construcción del índice invertido finalizada\n"
     ]
    }
   ],
   "source": [
    "from Index import Index\n",
    "\n",
    "index = Index(config, callback=print_callback)\n",
    "index.process_blocks()\n",
    "index.merge_blocks()"
   ]
  },
  {
   "cell_type": "markdown",
   "metadata": {},
   "source": [
    "Luego de eso, deberíamos tener en tests/ tres archivos .dict (pickle) y un index.ii (lista de documentos)"
   ]
  },
  {
   "cell_type": "markdown",
   "metadata": {},
   "source": [
    "## Search.py\n",
    "#### Esta clase contiene los métodos para hacer búsquedas\n",
    "#### Contiene métodos para:\n",
    "- Buscar en el índice invertido con o sin wildcards\n",
    "\n",
    "### Decisiones de diseño:\n",
    "- Para buscar una palabra sin wildcard, se decidió que la mejor forma es buscar de forma literal por la raíz usando el stemmer\n",
    "- Se utilizó el paquete BTrees para los árboles B\n",
    "- Si buscamos por un literal (sin wildcards) al tener los términos afectados por el stemming, siempre se busca de manera exacta por su raíz, por ejemplo, si se busca \"gato\", internamente se va a buscar \"gat\""
   ]
  },
  {
   "cell_type": "code",
   "execution_count": 13,
   "metadata": {},
   "outputs": [
    {
     "name": "stdout",
     "output_type": "stream",
     "text": [
      "Resultados de españ*\n",
      "None\n",
      "Resultados de argentina\n",
      "['TELAM-economía-Aprueban financiamiento por US$ 300 millones-Mon, 04 Nov 2019 09:29:00 -0300', 'TELAM-política-Alberto Fernández dará una conferencia en el antiguo colegio San Idelfonso-Tue, 05 Nov 2019 10:59:00 -0300', 'TELAM-política-Alberto Fernández se reunió con López Obrador y dijo que recibió un &quot;apoyo categórico&quot;-Mon, 04 Nov 2019 21:18:00 -0300', 'TELAM-política-La OIT conmemorará en diciembre los 50 años de su presencia en la Argentina-Mon, 04 Nov 2019 19:27:00 -0300', 'TELAM-economía-Destacan la importancia de las marcas registradas en la economía argentina-Tue, 05 Nov 2019 16:38:00 -0300', 'TELAM-economía-Crecieron 43% los subsidios al sector energético en enero-septiembre-Tue, 05 Nov 2019 13:42:00 -0300', 'TELAM-economía-El superávit comercial de la Argentina con Brasil alcanzó los U$S 290 millones en octubre-Tue, 05 Nov 2019 12:12:00 -0300', 'TELAM-economía-El descuento promedio de esta edición de cyberofertas es del 29% y supera en 4,8 puntos al del 2018-Mon, 04 Nov 2019 17:48:00 -0300']\n"
     ]
    }
   ],
   "source": [
    "from Search import Search\n",
    "\n",
    "search = Search(config[\"DEFAULT\"][\"output\"])\n",
    "resultados = search.search_in_ii([\"españ*\", \"argentina\"])\n",
    "print(\"Resultados de españ*\")\n",
    "print(resultados['españ*'])\n",
    "print(\"Resultados de argentina\")\n",
    "print(resultados['argentina'])"
   ]
  },
  {
   "cell_type": "markdown",
   "metadata": {},
   "source": [
    "## Compresión de la lista de apariciones"
   ]
  },
  {
   "cell_type": "markdown",
   "metadata": {},
   "source": [
    "Consiste en dos cosas:\n",
    "- Guardar en lugar de los doc_id donde aparece el término, solo el doc_id mas chico, y luego los saltos\n",
    "- Utilizar como mínimo 1 Byte para representar el doc_id:\n",
    "    - El bit mas significativo se utiliza para definir la terminación del número\n",
    "    - Si 7 bits no fuesen suficientes se utilizan varios varios Bytes, y en el último Byte se coloca 1 en el MSB\n",
    "\n",
    "### Decisiones de diseño\n",
    "Se utilizó el paquete bitarray para manipular los valores como arreglos booleanos\n",
    "\n",
    "### Resultados de la compresión\n",
    "Los resultados obtenidos con la compresión son muy significativos, a partír de nuestro set de noticias recolectadas (280 MB) la lista de apariciones sin comprimir pesa unos 66.2 MB, que con la compresión se reducen a 10.1 MB, casi un %84 de reducción de espacio."
   ]
  },
  {
   "cell_type": "code",
   "execution_count": null,
   "metadata": {},
   "outputs": [],
   "source": []
  }
 ],
 "metadata": {
  "kernelspec": {
   "display_name": "Python 3",
   "language": "python",
   "name": "python3"
  },
  "language_info": {
   "codemirror_mode": {
    "name": "ipython",
    "version": 3
   },
   "file_extension": ".py",
   "mimetype": "text/x-python",
   "name": "python",
   "nbconvert_exporter": "python",
   "pygments_lexer": "ipython3",
   "version": "3.6.8"
  }
 },
 "nbformat": 4,
 "nbformat_minor": 2
}
