{
 "cells": [
  {
   "cell_type": "markdown",
   "metadata": {},
   "source": [
    "# Estructuras de Datos - Universidad Nacional de Tres de Febrero \n",
    "# Trabajo Práctico Nº 2 - Indexador de Noticias\n",
    "\n",
    "### Lottero Bruno - Leg. 18434"
   ]
  },
  {
   "cell_type": "markdown",
   "metadata": {},
   "source": [
    "### Dependencias\n",
    "- configparser\n",
    "- requests\n",
    "- beautifulsoup4\n",
    "- lxml"
   ]
  },
  {
   "cell_type": "markdown",
   "metadata": {},
   "source": [
    "Se pueden instalar con: pip3 install -r requirements"
   ]
  },
  {
   "cell_type": "markdown",
   "metadata": {},
   "source": [
    "### A continuación se describen las clases y decisiones de diseño más importantes"
   ]
  },
  {
   "cell_type": "markdown",
   "metadata": {},
   "source": [
    "## NewsReader.py\n",
    "#### Esta clase contiene los métodos para leer y almacenar los artículos\n",
    "#### Contiene métodos para:\n",
    "- Crear los directorios/archivos xml destino si no existen\n",
    "- Recolectar y almacenar los artículos según los medios/canales indicados en la configuración\n",
    "\n",
    "### Decisiones de diseño:\n",
    "- Para evitar almacenar noticias en un canal, se verifica por xpath que no exista previamente en el mismo archivo XML\n",
    "- Se utilizó el paquete requests para hacer las peticiones HTTP correspondientes"
   ]
  },
  {
   "cell_type": "markdown",
   "metadata": {},
   "source": [
    "### Por ejemplo\n",
    "Leemos la configuración para tests"
   ]
  },
  {
   "cell_type": "code",
   "execution_count": 1,
   "metadata": {},
   "outputs": [
    {
     "data": {
      "text/plain": [
       "['tests/config.ini']"
      ]
     },
     "execution_count": 1,
     "metadata": {},
     "output_type": "execute_result"
    }
   ],
   "source": [
    "import configparser\n",
    "\n",
    "config = configparser.ConfigParser()\n",
    "config.read('tests/config.ini', encoding='utf-8')"
   ]
  },
  {
   "cell_type": "markdown",
   "metadata": {},
   "source": [
    "También definimos una función callback para que nos imprima mensajes por consola (más adelante se explica en más detalle)"
   ]
  },
  {
   "cell_type": "code",
   "execution_count": 2,
   "metadata": {},
   "outputs": [],
   "source": [
    "def print_callback(message, *args):\n",
    "    \"\"\"\n",
    "    Función callback para recibir mensajes e imprimir un texto adecuado por consola\n",
    "    \"\"\"\n",
    "    messages = {\n",
    "        \"DLERR\": \"No se pudo descargar el XML de %s\",\n",
    "        \"PARSEERR\": \"No se pudo parsear el XML de %s\",\n",
    "        \"NEWARTICLE\": \"Agregado %s - %s - %s\",\n",
    "        \"BADFORMAT\": \"Mal formato de título o fecha, salteando...\",\n",
    "        \"WAITING\": \"Esperando %s segundos para reiniciar descargas\",\n",
    "        \"CANINTERR\": \"Si lo desea presione CTRL+C para cancelar y volver al menú principal\",\n",
    "        \"BLKNE\": \"El archivo intermedio %s no existe, salteando...\",\n",
    "        \"INDERR\": \"No se puede indexar el artículo con título %s\",\n",
    "        \"XMLNF\": \"No existe el archivo XML %s\",\n",
    "        \"MERGEOK\": \"Construcción del índice invertido finalizada\"\n",
    "    }\n",
    "    print(messages.get(message) % args)"
   ]
  },
  {
   "cell_type": "markdown",
   "metadata": {},
   "source": [
    "Construímos NewsReader"
   ]
  },
  {
   "cell_type": "code",
   "execution_count": 3,
   "metadata": {},
   "outputs": [
    {
     "name": "stdout",
     "output_type": "stream",
     "text": [
      "Esperando 1 segundos para reiniciar descargas\n",
      "Si lo desea presione CTRL+C para cancelar y volver al menú principal\n",
      "Esperando 1 segundos para reiniciar descargas\n",
      "Si lo desea presione CTRL+C para cancelar y volver al menú principal\n"
     ]
    }
   ],
   "source": [
    "from NewsReader import NewsReader\n",
    "\n",
    "news_reader = NewsReader(config, callback=print_callback)\n",
    "news_reader.collect_news()"
   ]
  },
  {
   "cell_type": "markdown",
   "metadata": {},
   "source": [
    "Luego de esto deberíamos tener en tests/TELAM/ los xml de economía y política"
   ]
  },
  {
   "cell_type": "markdown",
   "metadata": {},
   "source": [
    "## Index.py\n",
    "#### Es la clase que representa al índice invertido\n",
    "#### Contiene métodos para:\n",
    "- Procesar los cuerpos de noticias como bloques (cada medio es un bloque)\n",
    "- Combinar los índices intermedios en un solo índice\n",
    "\n",
    "### Decisiones de diseño:\n",
    "- El formato de los índices intermedios consiste en palabras de longitud variable:\n",
    "    - 4 bytes de term_id + 4 bytes para indicar tamaño de doc_list + n bytes de doc_list\n",
    "- El formato de la lista de apariciones final consiste solamente en concatenar cada uno de los doc_list de los intermedios, ya que la metadada se encuentra en el diccionario almacenado con pickle\n",
    "- En todos los casos las palabras son big endian\n",
    "- Para hacer el merge en lineas generales:\n",
    " - Se coloca un manejador de archivo en una lista por cada bloque intermedio\n",
    " - Se hace push de la primer palabra de cada archivo en un min heap\n",
    "     - Mientras el heap no esté vacío\n",
    "         - min = Hacer pop del heap\n",
    "         - next = Leer siguiente palabra a min (para facilitar, min tiene una referencia al manejador de archivo)\n",
    "         - Si next no está vacío, pushear a heap\n",
    "         - Si min.term_id coincide con el anterior, acumular los resultados, sinó escribir en disco\n",
    "- Se utilizó PyStemmer como stemmer\n",
    "- Para interpretar algunas etiquetas XML se utilizó BeautifulSoup4"
   ]
  },
  {
   "cell_type": "code",
   "execution_count": 4,
   "metadata": {},
   "outputs": [
    {
     "ename": "PermissionError",
     "evalue": "[WinError 32] The process cannot access the file because it is being used by another process: './tests/TELAM/TELAM.ii.part'",
     "output_type": "error",
     "traceback": [
      "\u001b[1;31m---------------------------------------------------------------------------\u001b[0m",
      "\u001b[1;31mPermissionError\u001b[0m                           Traceback (most recent call last)",
      "\u001b[1;32m<ipython-input-4-311fd735dccd>\u001b[0m in \u001b[0;36m<module>\u001b[1;34m\u001b[0m\n\u001b[0;32m      3\u001b[0m \u001b[0mindex\u001b[0m \u001b[1;33m=\u001b[0m \u001b[0mIndex\u001b[0m\u001b[1;33m(\u001b[0m\u001b[0mconfig\u001b[0m\u001b[1;33m,\u001b[0m \u001b[0mcallback\u001b[0m\u001b[1;33m=\u001b[0m\u001b[0mprint_callback\u001b[0m\u001b[1;33m)\u001b[0m\u001b[1;33m\u001b[0m\u001b[1;33m\u001b[0m\u001b[0m\n\u001b[0;32m      4\u001b[0m \u001b[0mindex\u001b[0m\u001b[1;33m.\u001b[0m\u001b[0mprocess_blocks\u001b[0m\u001b[1;33m(\u001b[0m\u001b[1;33m)\u001b[0m\u001b[1;33m\u001b[0m\u001b[1;33m\u001b[0m\u001b[0m\n\u001b[1;32m----> 5\u001b[1;33m \u001b[0mindex\u001b[0m\u001b[1;33m.\u001b[0m\u001b[0mmerge_blocks\u001b[0m\u001b[1;33m(\u001b[0m\u001b[1;33m)\u001b[0m\u001b[1;33m\u001b[0m\u001b[1;33m\u001b[0m\u001b[0m\n\u001b[0m",
      "\u001b[1;32m~\\PycharmProjects\\NewsIndexer\\Index.py\u001b[0m in \u001b[0;36mmerge_blocks\u001b[1;34m(self)\u001b[0m\n\u001b[0;32m    133\u001b[0m                         \u001b[0mtotal_size\u001b[0m \u001b[1;33m=\u001b[0m \u001b[0msize\u001b[0m\u001b[1;33m\u001b[0m\u001b[1;33m\u001b[0m\u001b[0m\n\u001b[0;32m    134\u001b[0m \u001b[1;33m\u001b[0m\u001b[0m\n\u001b[1;32m--> 135\u001b[1;33m                 \u001b[0mprevious_term_id\u001b[0m \u001b[1;33m=\u001b[0m \u001b[0mminor\u001b[0m\u001b[1;33m[\u001b[0m\u001b[1;36m0\u001b[0m\u001b[1;33m]\u001b[0m\u001b[1;33m\u001b[0m\u001b[1;33m\u001b[0m\u001b[0m\n\u001b[0m\u001b[0;32m    136\u001b[0m \u001b[1;33m\u001b[0m\u001b[0m\n\u001b[0;32m    137\u001b[0m         \u001b[0mself\u001b[0m\u001b[1;33m.\u001b[0m\u001b[0m_persist_ii\u001b[0m\u001b[1;33m(\u001b[0m\u001b[1;33m)\u001b[0m\u001b[1;33m\u001b[0m\u001b[1;33m\u001b[0m\u001b[0m\n",
      "\u001b[1;32m~\\PycharmProjects\\NewsIndexer\\Index.py\u001b[0m in \u001b[0;36m_remove_all_parts\u001b[1;34m(self)\u001b[0m\n\u001b[0;32m     39\u001b[0m     \u001b[1;32mdef\u001b[0m \u001b[0m_remove_all_parts\u001b[0m\u001b[1;33m(\u001b[0m\u001b[0mself\u001b[0m\u001b[1;33m)\u001b[0m\u001b[1;33m:\u001b[0m\u001b[1;33m\u001b[0m\u001b[1;33m\u001b[0m\u001b[0m\n\u001b[0;32m     40\u001b[0m         \u001b[1;32mfor\u001b[0m \u001b[0msection\u001b[0m \u001b[1;32min\u001b[0m \u001b[0mself\u001b[0m\u001b[1;33m.\u001b[0m\u001b[0m_config\u001b[0m\u001b[1;33m.\u001b[0m\u001b[0msections\u001b[0m\u001b[1;33m(\u001b[0m\u001b[1;33m)\u001b[0m\u001b[1;33m:\u001b[0m\u001b[1;33m\u001b[0m\u001b[1;33m\u001b[0m\u001b[0m\n\u001b[1;32m---> 41\u001b[1;33m             \u001b[0mfilename\u001b[0m \u001b[1;33m=\u001b[0m \u001b[0mself\u001b[0m\u001b[1;33m.\u001b[0m\u001b[0m_output\u001b[0m \u001b[1;33m+\u001b[0m \u001b[1;34m'/'\u001b[0m \u001b[1;33m+\u001b[0m \u001b[0msection\u001b[0m \u001b[1;33m+\u001b[0m \u001b[1;34m\"/\"\u001b[0m \u001b[1;33m+\u001b[0m \u001b[0msection\u001b[0m \u001b[1;33m+\u001b[0m \u001b[1;34m\".ii.part\"\u001b[0m\u001b[1;33m\u001b[0m\u001b[1;33m\u001b[0m\u001b[0m\n\u001b[0m\u001b[0;32m     42\u001b[0m             \u001b[1;32mtry\u001b[0m\u001b[1;33m:\u001b[0m\u001b[1;33m\u001b[0m\u001b[1;33m\u001b[0m\u001b[0m\n\u001b[0;32m     43\u001b[0m                 \u001b[0mos\u001b[0m\u001b[1;33m.\u001b[0m\u001b[0mremove\u001b[0m\u001b[1;33m(\u001b[0m\u001b[0mfilename\u001b[0m\u001b[1;33m)\u001b[0m\u001b[1;33m\u001b[0m\u001b[1;33m\u001b[0m\u001b[0m\n",
      "\u001b[1;31mPermissionError\u001b[0m: [WinError 32] The process cannot access the file because it is being used by another process: './tests/TELAM/TELAM.ii.part'"
     ]
    }
   ],
   "source": [
    "from Index import Index\n",
    "\n",
    "index = Index(config, callback=print_callback)\n",
    "index.process_blocks()\n",
    "index.merge_blocks()"
   ]
  },
  {
   "cell_type": "markdown",
   "metadata": {},
   "source": [
    "Luego de eso, deberíamos tener en tests/ tres archivos .dict (pickle) y un index.ii (lista de documentos)"
   ]
  },
  {
   "cell_type": "markdown",
   "metadata": {},
   "source": [
    "## Search.py\n",
    "#### Esta clase contiene los métodos para hacer búsquedas\n",
    "#### Contiene métodos para:\n",
    "- Buscar en el índice invertido con o sin wildcards\n",
    "\n",
    "### Decisiones de diseño:\n",
    "- Para buscar una palabra sin wildcard, se decidió que la mejor forma es buscar de forma literal por la raíz usando el stemmer\n",
    "- Se utilizó el paquete OOBtree para los árboles B"
   ]
  },
  {
   "cell_type": "code",
   "execution_count": 6,
   "metadata": {},
   "outputs": [
    {
     "ename": "ModuleNotFoundError",
     "evalue": "No module named 'Stemmer'",
     "output_type": "error",
     "traceback": [
      "\u001b[1;31m---------------------------------------------------------------------------\u001b[0m",
      "\u001b[1;31mModuleNotFoundError\u001b[0m                       Traceback (most recent call last)",
      "\u001b[1;32m<ipython-input-6-3d2784891910>\u001b[0m in \u001b[0;36m<module>\u001b[1;34m\u001b[0m\n\u001b[1;32m----> 1\u001b[1;33m \u001b[1;32mfrom\u001b[0m \u001b[0mSearch\u001b[0m \u001b[1;32mimport\u001b[0m \u001b[0mSearch\u001b[0m\u001b[1;33m\u001b[0m\u001b[1;33m\u001b[0m\u001b[0m\n\u001b[0m\u001b[0;32m      2\u001b[0m \u001b[1;33m\u001b[0m\u001b[0m\n\u001b[0;32m      3\u001b[0m \u001b[0msearch\u001b[0m \u001b[1;33m=\u001b[0m \u001b[0mSearch\u001b[0m\u001b[1;33m(\u001b[0m\u001b[0mconfig\u001b[0m\u001b[1;33m[\u001b[0m\u001b[1;34m\"DEFAULT\"\u001b[0m\u001b[1;33m]\u001b[0m\u001b[1;33m[\u001b[0m\u001b[1;34m\"output\"\u001b[0m\u001b[1;33m]\u001b[0m\u001b[1;33m)\u001b[0m\u001b[1;33m\u001b[0m\u001b[1;33m\u001b[0m\u001b[0m\n\u001b[0;32m      4\u001b[0m \u001b[0mprint\u001b[0m\u001b[1;33m(\u001b[0m\u001b[0msearch\u001b[0m\u001b[1;33m.\u001b[0m\u001b[0msearch_in_ii\u001b[0m\u001b[1;33m(\u001b[0m\u001b[1;33m[\u001b[0m\u001b[1;34m\"algo\"\u001b[0m\u001b[1;33m,\u001b[0m \u001b[1;34m\"man*\"\u001b[0m\u001b[1;33m]\u001b[0m\u001b[1;33m)\u001b[0m\u001b[1;33m)\u001b[0m\u001b[1;33m\u001b[0m\u001b[1;33m\u001b[0m\u001b[0m\n",
      "\u001b[1;32m~\\PycharmProjects\\NewsIndexer\\Search.py\u001b[0m in \u001b[0;36m<module>\u001b[1;34m\u001b[0m\n\u001b[0;32m      2\u001b[0m \u001b[1;32mfrom\u001b[0m \u001b[0mUncompressedPostings\u001b[0m \u001b[1;32mimport\u001b[0m \u001b[0mUncompressedPostings\u001b[0m\u001b[1;33m\u001b[0m\u001b[1;33m\u001b[0m\u001b[0m\n\u001b[0;32m      3\u001b[0m \u001b[1;32mfrom\u001b[0m \u001b[0mBTrees\u001b[0m\u001b[1;33m.\u001b[0m\u001b[0mOOBTree\u001b[0m \u001b[1;32mimport\u001b[0m \u001b[0mOOBTree\u001b[0m\u001b[1;33m\u001b[0m\u001b[1;33m\u001b[0m\u001b[0m\n\u001b[1;32m----> 4\u001b[1;33m \u001b[1;32mimport\u001b[0m \u001b[0mStemmer\u001b[0m\u001b[1;33m\u001b[0m\u001b[1;33m\u001b[0m\u001b[0m\n\u001b[0m\u001b[0;32m      5\u001b[0m \u001b[1;33m\u001b[0m\u001b[0m\n\u001b[0;32m      6\u001b[0m \u001b[1;33m\u001b[0m\u001b[0m\n",
      "\u001b[1;31mModuleNotFoundError\u001b[0m: No module named 'Stemmer'"
     ]
    }
   ],
   "source": [
    "from Search import Search\n",
    "\n",
    "search = Search(config[\"DEFAULT\"][\"output\"])\n",
    "print(search.search_in_ii([\"algo\", \"man*\"]))"
   ]
  },
  {
   "cell_type": "code",
   "execution_count": null,
   "metadata": {},
   "outputs": [],
   "source": []
  }
 ],
 "metadata": {
  "kernelspec": {
   "display_name": "Python 3",
   "language": "python",
   "name": "python3"
  },
  "language_info": {
   "codemirror_mode": {
    "name": "ipython",
    "version": 3
   },
   "file_extension": ".py",
   "mimetype": "text/x-python",
   "name": "python",
   "nbconvert_exporter": "python",
   "pygments_lexer": "ipython3",
   "version": "3.7.4"
  }
 },
 "nbformat": 4,
 "nbformat_minor": 2
}
